{
 "cells": [
  {
   "cell_type": "code",
   "execution_count": 9,
   "id": "dc2fcdc7-b7ba-454d-9288-36b48829f2d8",
   "metadata": {
    "scrolled": true
   },
   "outputs": [
    {
     "name": "stdout",
     "output_type": "stream",
     "text": [
      "Running on local URL:  http://127.0.0.1:7860\n",
      "\n",
      "To create a public link, set `share=True` in `launch()`.\n"
     ]
    },
    {
     "data": {
      "text/html": [
       "<div><iframe src=\"http://127.0.0.1:7860/\" width=\"100%\" height=\"500\" allow=\"autoplay; camera; microphone; clipboard-read; clipboard-write;\" frameborder=\"0\" allowfullscreen></iframe></div>"
      ],
      "text/plain": [
       "<IPython.core.display.HTML object>"
      ]
     },
     "metadata": {},
     "output_type": "display_data"
    },
    {
     "data": {
      "text/plain": []
     },
     "execution_count": 9,
     "metadata": {},
     "output_type": "execute_result"
    }
   ],
   "source": [
    "import pandas as pd\n",
    "import numpy as np\n",
    "import gradio as gr\n",
    "from sklearn.ensemble import RandomForestClassifier\n",
    "from sklearn.model_selection import train_test_split\n",
    "\n",
    "# Load data\n",
    "df = pd.read_csv('merged.csv', index_col=0)\n",
    "\n",
    "# Define labels\n",
    "labels = {\n",
    "    0: \"Amused\",\n",
    "    1: \"Neutral\",\n",
    "    2: \"Stressed\"\n",
    "}\n",
    "\n",
    "# Feature selection\n",
    "selected_feats = [\n",
    "    'BVP_mean', 'BVP_std', 'EDA_phasic_mean', 'EDA_phasic_min', 'EDA_smna_min', \n",
    "    'EDA_tonic_mean', 'Resp_mean', 'Resp_std', 'TEMP_mean', 'TEMP_std', 'TEMP_slope',\n",
    "    'BVP_peak_freq', 'age', 'height', 'weight'\n",
    "]\n",
    "\n",
    "# Prepare data\n",
    "X = df[selected_feats]\n",
    "y = df['label']\n",
    "\n",
    "# Split data\n",
    "X_train, X_test, y_train, y_test = train_test_split(X, y, test_size=0.1, random_state=0)\n",
    "\n",
    "# Train model\n",
    "model = RandomForestClassifier()\n",
    "model.fit(X_train, y_train)\n",
    "\n",
    "# Define prediction function for Gradio\n",
    "def predict_stress_level(BVP_mean, BVP_std, EDA_phasic_mean, EDA_phasic_min, EDA_smna_min,\n",
    "                         EDA_tonic_mean, Resp_mean, Resp_std, TEMP_mean, TEMP_std, TEMP_slope,\n",
    "                         BVP_peak_freq, age, height, weight):\n",
    "    # Prepare input features\n",
    "    features = np.array([BVP_mean, BVP_std, EDA_phasic_mean, EDA_phasic_min, EDA_smna_min,\n",
    "                         EDA_tonic_mean, Resp_mean, Resp_std, TEMP_mean, TEMP_std, TEMP_slope,\n",
    "                         BVP_peak_freq, age, height, weight]).reshape(1, -1)\n",
    "    \n",
    "    # Predict\n",
    "    prediction = model.predict(features)[0]\n",
    "    return labels[prediction]\n",
    "\n",
    "# Create Gradio interface\n",
    "iface = gr.Interface(\n",
    "    fn=predict_stress_level,\n",
    "    inputs=[\n",
    "        gr.Slider(minimum=0, maximum=10, value=0, label='BVP_mean'),\n",
    "        gr.Slider(minimum=0, maximum=10, value=0, label='BVP_std'),\n",
    "        gr.Slider(minimum=0, maximum=10, value=0, label='EDA_phasic_mean'),\n",
    "        gr.Slider(minimum=0, maximum=10, value=0, label='EDA_phasic_min'),\n",
    "        gr.Slider(minimum=0, maximum=10, value=0, label='EDA_smna_min'),\n",
    "        gr.Slider(minimum=0, maximum=10, value=0, label='EDA_tonic_mean'),\n",
    "        gr.Slider(minimum=0, maximum=10, value=0, label='Resp_mean'),\n",
    "        gr.Slider(minimum=0, maximum=10, value=0, label='Resp_std'),\n",
    "        gr.Slider(minimum=0, maximum=10, value=0, label='TEMP_mean'),\n",
    "        gr.Slider(minimum=0, maximum=10, value=0, label='TEMP_std'),\n",
    "        gr.Slider(minimum=0, maximum=10, value=0, label='TEMP_slope'),\n",
    "        gr.Slider(minimum=0, maximum=10, value=0, label='BVP_peak_freq'),\n",
    "        gr.Slider(minimum=0, maximum=100, value=0, label='age'),\n",
    "        gr.Slider(minimum=0, maximum=300, value=0, label='height'),\n",
    "        gr.Slider(minimum=0, maximum=200, value=0, label='weight')\n",
    "    ],\n",
    "    outputs=gr.Textbox(),\n",
    "    title=\"Stress Detection Model\",\n",
    "    description=\"Enter the values for the features to predict stress level.\"\n",
    ")\n",
    "\n",
    "# Launch the Gradio interface\n",
    "iface.launch()\n"
   ]
  },
  {
   "cell_type": "code",
   "execution_count": null,
   "id": "c7d606c0-26e7-4fd3-9503-249012ed14aa",
   "metadata": {},
   "outputs": [],
   "source": []
  }
 ],
 "metadata": {
  "kernelspec": {
   "display_name": "Python 3 (ipykernel)",
   "language": "python",
   "name": "python3"
  },
  "language_info": {
   "codemirror_mode": {
    "name": "ipython",
    "version": 3
   },
   "file_extension": ".py",
   "mimetype": "text/x-python",
   "name": "python",
   "nbconvert_exporter": "python",
   "pygments_lexer": "ipython3",
   "version": "3.12.4"
  }
 },
 "nbformat": 4,
 "nbformat_minor": 5
}
